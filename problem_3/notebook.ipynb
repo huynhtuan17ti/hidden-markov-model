{
 "cells": [
  {
   "cell_type": "markdown",
   "metadata": {},
   "source": [
    "## BÀI TOÁN DỰ ĐOÁN CỔ PHIẾU LÊN HOẶC XUỐNG\n",
    "Đầu vào: Các biến động của cổ phiếu của ngày hôm nay và các ngày trước đó.  \n",
    "Đầu ra: Dự đoán cổ phiếu lên hoặc xuống"
   ]
  },
  {
   "cell_type": "code",
   "execution_count": 1,
   "metadata": {},
   "outputs": [],
   "source": [
    "import pandas as pd\n",
    "import pandas_datareader.data as web\n",
    "from datetime import datetime\n",
    "import numpy as np\n",
    "import matplotlib.pyplot as plt\n",
    "from matplotlib.dates import YearLocator\n",
    "from hmm import viterbi, baum_welch\n",
    "\n",
    "pd.options.mode.chained_assignment = None"
   ]
  },
  {
   "cell_type": "code",
   "execution_count": 2,
   "metadata": {},
   "outputs": [],
   "source": [
    "MAX_STATE = 27 # maximum of observed state"
   ]
  },
  {
   "cell_type": "markdown",
   "metadata": {},
   "source": [
    "### CÁC HÀM HỖ TRỢ"
   ]
  },
  {
   "cell_type": "code",
   "execution_count": 3,
   "metadata": {},
   "outputs": [],
   "source": [
    "map_bit = {\n",
    "    'L': 0,\n",
    "    'M': 1,\n",
    "    'H': 2\n",
    "}\n",
    "\n",
    "def convert(s: str):\n",
    "    assert len(s) == 3\n",
    "    val = 0\n",
    "    for i in range(3):\n",
    "        val += map_bit[s[i]] * (3**i)\n",
    "    return val\n",
    "\n",
    "def build_transition_matrix(df: pd.DataFrame):\n",
    "    transition_matrix = np.zeros((2, 2), dtype=np.float32)\n",
    "    for i in range(2):\n",
    "        cnt = [0 for _ in range(2)]\n",
    "        for idx in range(len(df)-1):\n",
    "            if df['Outcome_Next_Day_Direction'][idx] == i:\n",
    "                cnt[df['Outcome_Next_Day_Direction'][idx+1]] += 1 \n",
    "        for j in range(2):\n",
    "            transition_matrix[i][j] = cnt[j]/sum(cnt)\n",
    "    return transition_matrix\n",
    "\n",
    "def build_emission_matrix(df: pd.DataFrame):\n",
    "    emission_matrix = np.zeros((2, MAX_STATE), dtype=np.float32)\n",
    "    for j in range(2):\n",
    "        cnt = [0 for _ in range(MAX_STATE)]\n",
    "        for idx in range(len(df)):\n",
    "            if df['Outcome_Next_Day_Direction'][idx] == j:\n",
    "                cnt[df['Encode_Event'][idx]] += 1\n",
    "        for i in range(MAX_STATE):\n",
    "            emission_matrix[j, i] = cnt[i]/sum(cnt)\n",
    "    return emission_matrix"
   ]
  },
  {
   "cell_type": "markdown",
   "metadata": {},
   "source": [
    "### ĐỌC DỮ LIỆU\n",
    "Dữ liệu được sử dụng trong bài này là dữ liệu cổ phiếu của công ty AMAZON từ ngày 03/01/2017 đến 31/12/2021."
   ]
  },
  {
   "cell_type": "code",
   "execution_count": 4,
   "metadata": {},
   "outputs": [
    {
     "data": {
      "text/html": [
       "<div>\n",
       "<style scoped>\n",
       "    .dataframe tbody tr th:only-of-type {\n",
       "        vertical-align: middle;\n",
       "    }\n",
       "\n",
       "    .dataframe tbody tr th {\n",
       "        vertical-align: top;\n",
       "    }\n",
       "\n",
       "    .dataframe thead th {\n",
       "        text-align: right;\n",
       "    }\n",
       "</style>\n",
       "<table border=\"1\" class=\"dataframe\">\n",
       "  <thead>\n",
       "    <tr style=\"text-align: right;\">\n",
       "      <th></th>\n",
       "      <th>Date</th>\n",
       "      <th>High</th>\n",
       "      <th>Low</th>\n",
       "      <th>Open</th>\n",
       "      <th>Close</th>\n",
       "      <th>Volume</th>\n",
       "      <th>Adj Close</th>\n",
       "    </tr>\n",
       "  </thead>\n",
       "  <tbody>\n",
       "    <tr>\n",
       "      <th>0</th>\n",
       "      <td>2017-01-03</td>\n",
       "      <td>758.760010</td>\n",
       "      <td>747.700012</td>\n",
       "      <td>757.919983</td>\n",
       "      <td>753.669983</td>\n",
       "      <td>3521100</td>\n",
       "      <td>753.669983</td>\n",
       "    </tr>\n",
       "    <tr>\n",
       "      <th>1</th>\n",
       "      <td>2017-01-04</td>\n",
       "      <td>759.679993</td>\n",
       "      <td>754.200012</td>\n",
       "      <td>758.390015</td>\n",
       "      <td>757.179993</td>\n",
       "      <td>2510500</td>\n",
       "      <td>757.179993</td>\n",
       "    </tr>\n",
       "    <tr>\n",
       "      <th>2</th>\n",
       "      <td>2017-01-05</td>\n",
       "      <td>782.400024</td>\n",
       "      <td>760.260010</td>\n",
       "      <td>761.549988</td>\n",
       "      <td>780.450012</td>\n",
       "      <td>5830100</td>\n",
       "      <td>780.450012</td>\n",
       "    </tr>\n",
       "    <tr>\n",
       "      <th>3</th>\n",
       "      <td>2017-01-06</td>\n",
       "      <td>799.440002</td>\n",
       "      <td>778.479980</td>\n",
       "      <td>782.359985</td>\n",
       "      <td>795.989990</td>\n",
       "      <td>5986200</td>\n",
       "      <td>795.989990</td>\n",
       "    </tr>\n",
       "    <tr>\n",
       "      <th>4</th>\n",
       "      <td>2017-01-09</td>\n",
       "      <td>801.770020</td>\n",
       "      <td>791.770020</td>\n",
       "      <td>798.000000</td>\n",
       "      <td>796.919983</td>\n",
       "      <td>3446100</td>\n",
       "      <td>796.919983</td>\n",
       "    </tr>\n",
       "  </tbody>\n",
       "</table>\n",
       "</div>"
      ],
      "text/plain": [
       "         Date        High         Low        Open       Close   Volume  \\\n",
       "0  2017-01-03  758.760010  747.700012  757.919983  753.669983  3521100   \n",
       "1  2017-01-04  759.679993  754.200012  758.390015  757.179993  2510500   \n",
       "2  2017-01-05  782.400024  760.260010  761.549988  780.450012  5830100   \n",
       "3  2017-01-06  799.440002  778.479980  782.359985  795.989990  5986200   \n",
       "4  2017-01-09  801.770020  791.770020  798.000000  796.919983  3446100   \n",
       "\n",
       "    Adj Close  \n",
       "0  753.669983  \n",
       "1  757.179993  \n",
       "2  780.450012  \n",
       "3  795.989990  \n",
       "4  796.919983  "
      ]
     },
     "execution_count": 4,
     "metadata": {},
     "output_type": "execute_result"
    }
   ],
   "source": [
    "df = pd.read_csv('data/AMZ_data.csv')\n",
    "df.head()"
   ]
  },
  {
   "cell_type": "markdown",
   "metadata": {},
   "source": [
    "### MÔ TẢ DỮ LIỆU\n",
    "| Key                   | Definition    |\n",
    "|-------                |--------       |\n",
    "| **High** and **Low**  | Refer to the maximum and minimum prices in a given time period |\n",
    "| **Open** and **Close**| The prices at which a stock began and ended trading in the same period |\n",
    "| **Volume**            | The total amount of trading activity |\n",
    "| **Adj Close**         | The stock's value after accounting for any corporate actions |"
   ]
  },
  {
   "cell_type": "markdown",
   "metadata": {},
   "source": [
    "### XỬ LÝ DỮ LIỆU\n",
    "- Tính toán độ chênh lệch giữa cổ phiếu giữa hai ngày (đơn vị là phần trăm). Các cột được thêm vào là `Close_gap`, `High_gap`, `Low_gap`, `Volume_gap`.\n",
    "- Tính toán độ tăng lên của cổ phiếu (`Daily_change`) thông qua công thức\n",
    "$$\n",
    "    \\dfrac{d_{Close} - d_{Open}}{d_{Open}}\n",
    "$$\n",
    "- Tính toán độ chênh lệch của cổ phiếu ngày hôm nay và ngày hôm sau (`Outcome_Next_Day_Direction`).\n",
    "- Binning các độ chênh lệch theo phần trăm vào 3 giá trị là L (Low), M (Medium), H (High). Thêm các cột mới có hậu tố là `LMH`.\n",
    "- Binning `Outcome_Next_Day_Direction` vào 2 giá trị là 1 nếu `Outcome_Next_Day_Direction` lớn hơn 0 và 0 nếu ngược lại\n",
    "- Loại các cột `High_gap_LMH` và `Low_gap_LMH` do nó không có giá trị để dự đoán.\n",
    "- Kết hợp các cột `Close_gap_LMH`, `Volume_gap_LMH` và `Daily_change_LMH` thành một là `Event_Pattern`.\n",
    "- Encoding `Event_Pattern` (`Encode_Event`) thành các số để sau này dễ xử lý."
   ]
  },
  {
   "cell_type": "code",
   "execution_count": 5,
   "metadata": {},
   "outputs": [],
   "source": [
    "def process_df(df):\n",
    "    df['Date'] = pd.to_datetime(df['Date'], format='%Y-%m-%d')\n",
    "    df['Close_gap'] = df['Close'].pct_change()\n",
    "    df['High_gap'] = df['High'].pct_change()\n",
    "    df['Low_gap'] = df['Low'].pct_change()\n",
    "    df['Volume_gap'] = df['Volume'].pct_change()\n",
    "    df['Daily_change'] = (df['Close'] - df['Open']) / df['Open']\n",
    "    df['Outcome_Next_Day_Direction'] = (df['Volume'].shift(-1) - df['Volume'])\n",
    "    df = df[1:-1]\n",
    "\n",
    "    df['Close_gap_LMH'] = pd.qcut(df['Close_gap'], 3, labels=[\"L\", \"M\", \"H\"])\n",
    "\n",
    "    # High_Gap - not used in this example\n",
    "    df['High_gap_LMH'] = pd.qcut(df['High_gap'], 3, labels=[\"L\", \"M\", \"H\"])\n",
    "\n",
    "    # Low_Gap - not used in this example\n",
    "    df['Low_gap_LMH'] = pd.qcut(df['Low_gap'], 3, labels=[\"L\", \"M\", \"H\"])\n",
    "\n",
    "    # Volume_Gap\n",
    "    df['Volume_gap_LMH'] = pd.qcut(df['Volume_gap'], 3, labels=[\"L\", \"M\", \"H\"])\n",
    "    \n",
    "    # Daily_Change\n",
    "    df['Daily_change_LMH'] = pd.qcut(df['Daily_change'], 3, labels=[\"L\", \"M\", \"H\"])\n",
    "\n",
    "    # compressed_set = df[abs(df['Outcome_Next_Day_Direction']) > 10000000]\n",
    "    df['Outcome_Next_Day_Direction'] = np.where((df['Outcome_Next_Day_Direction'] > 0), 1, 0)\n",
    "\n",
    "    df['Event_Pattern'] = df['Close_gap_LMH'].astype(str) + df['Volume_gap_LMH'].astype(str) + df['Daily_change_LMH'].astype(str)\n",
    "    df = df[['Date', 'Event_Pattern', 'Outcome_Next_Day_Direction']]\n",
    "\n",
    "    df['Encode_Event'] = df['Event_Pattern'].map(lambda x: convert(x))\n",
    "    df = df.reset_index()\n",
    "    return df"
   ]
  },
  {
   "cell_type": "markdown",
   "metadata": {},
   "source": [
    "### ÁP DỤNG VÀO MÔ HÌNH HMM\n",
    "Trạng thái có thể quan sát sẽ là `Encode_Event` (các biến động của cố phiếu của ngày hôm nay và các ngày hôm trước).  \n",
    "Trạng thái ẩn là `Outcome_Next_Day_Direction` (cổ phiếu tăng hoặc giảm của ngày hôm sau).  "
   ]
  },
  {
   "cell_type": "markdown",
   "metadata": {},
   "source": [
    "### CHIA TẬP HUẤN LUYỆN VÀ TẬP THỬ NGHIỆM\n",
    "Tập thử nghiệm gồm 500 ngày cuối cùng. Tập huấn luyện gồm những ngày còn lại."
   ]
  },
  {
   "cell_type": "code",
   "execution_count": 6,
   "metadata": {},
   "outputs": [
    {
     "data": {
      "text/html": [
       "<div>\n",
       "<style scoped>\n",
       "    .dataframe tbody tr th:only-of-type {\n",
       "        vertical-align: middle;\n",
       "    }\n",
       "\n",
       "    .dataframe tbody tr th {\n",
       "        vertical-align: top;\n",
       "    }\n",
       "\n",
       "    .dataframe thead th {\n",
       "        text-align: right;\n",
       "    }\n",
       "</style>\n",
       "<table border=\"1\" class=\"dataframe\">\n",
       "  <thead>\n",
       "    <tr style=\"text-align: right;\">\n",
       "      <th></th>\n",
       "      <th>index</th>\n",
       "      <th>Date</th>\n",
       "      <th>Event_Pattern</th>\n",
       "      <th>Outcome_Next_Day_Direction</th>\n",
       "      <th>Encode_Event</th>\n",
       "    </tr>\n",
       "  </thead>\n",
       "  <tbody>\n",
       "    <tr>\n",
       "      <th>0</th>\n",
       "      <td>1</td>\n",
       "      <td>2017-01-04</td>\n",
       "      <td>MLM</td>\n",
       "      <td>1</td>\n",
       "      <td>10</td>\n",
       "    </tr>\n",
       "    <tr>\n",
       "      <th>1</th>\n",
       "      <td>2</td>\n",
       "      <td>2017-01-05</td>\n",
       "      <td>HHH</td>\n",
       "      <td>1</td>\n",
       "      <td>26</td>\n",
       "    </tr>\n",
       "    <tr>\n",
       "      <th>2</th>\n",
       "      <td>3</td>\n",
       "      <td>2017-01-06</td>\n",
       "      <td>HMH</td>\n",
       "      <td>0</td>\n",
       "      <td>23</td>\n",
       "    </tr>\n",
       "    <tr>\n",
       "      <th>3</th>\n",
       "      <td>4</td>\n",
       "      <td>2017-01-09</td>\n",
       "      <td>MLM</td>\n",
       "      <td>0</td>\n",
       "      <td>10</td>\n",
       "    </tr>\n",
       "    <tr>\n",
       "      <th>4</th>\n",
       "      <td>5</td>\n",
       "      <td>2017-01-10</td>\n",
       "      <td>MLM</td>\n",
       "      <td>1</td>\n",
       "      <td>10</td>\n",
       "    </tr>\n",
       "    <tr>\n",
       "      <th>5</th>\n",
       "      <td>6</td>\n",
       "      <td>2017-01-11</td>\n",
       "      <td>MHH</td>\n",
       "      <td>1</td>\n",
       "      <td>25</td>\n",
       "    </tr>\n",
       "    <tr>\n",
       "      <th>6</th>\n",
       "      <td>7</td>\n",
       "      <td>2017-01-12</td>\n",
       "      <td>HHH</td>\n",
       "      <td>0</td>\n",
       "      <td>26</td>\n",
       "    </tr>\n",
       "    <tr>\n",
       "      <th>7</th>\n",
       "      <td>8</td>\n",
       "      <td>2017-01-13</td>\n",
       "      <td>MLM</td>\n",
       "      <td>0</td>\n",
       "      <td>10</td>\n",
       "    </tr>\n",
       "    <tr>\n",
       "      <th>8</th>\n",
       "      <td>9</td>\n",
       "      <td>2017-01-17</td>\n",
       "      <td>LML</td>\n",
       "      <td>0</td>\n",
       "      <td>3</td>\n",
       "    </tr>\n",
       "    <tr>\n",
       "      <th>9</th>\n",
       "      <td>10</td>\n",
       "      <td>2017-01-18</td>\n",
       "      <td>MLM</td>\n",
       "      <td>1</td>\n",
       "      <td>10</td>\n",
       "    </tr>\n",
       "  </tbody>\n",
       "</table>\n",
       "</div>"
      ],
      "text/plain": [
       "   index       Date Event_Pattern  Outcome_Next_Day_Direction  Encode_Event\n",
       "0      1 2017-01-04           MLM                           1            10\n",
       "1      2 2017-01-05           HHH                           1            26\n",
       "2      3 2017-01-06           HMH                           0            23\n",
       "3      4 2017-01-09           MLM                           0            10\n",
       "4      5 2017-01-10           MLM                           1            10\n",
       "5      6 2017-01-11           MHH                           1            25\n",
       "6      7 2017-01-12           HHH                           0            26\n",
       "7      8 2017-01-13           MLM                           0            10\n",
       "8      9 2017-01-17           LML                           0             3\n",
       "9     10 2017-01-18           MLM                           1            10"
      ]
     },
     "execution_count": 6,
     "metadata": {},
     "output_type": "execute_result"
    }
   ],
   "source": [
    "train_df = df[:-500]\n",
    "val_df = df[-500:]\n",
    "\n",
    "train_df = process_df(train_df)\n",
    "val_df = process_df(val_df)\n",
    "\n",
    "train_df.head(10)"
   ]
  },
  {
   "cell_type": "markdown",
   "metadata": {},
   "source": [
    "### XÂY DỰNG MA TRẬN TRANSITION VÀ EMISSION"
   ]
  },
  {
   "cell_type": "code",
   "execution_count": 7,
   "metadata": {},
   "outputs": [],
   "source": [
    "A = build_transition_matrix(train_df)\n",
    "B = build_emission_matrix(train_df)\n",
    "initial_distribution = np.array((0.5, 0.5))"
   ]
  },
  {
   "cell_type": "markdown",
   "metadata": {},
   "source": [
    "### CHẠY THUẬT TOÁN VITERBI VÀ TÍNH TOÁN ĐỘ CHÍNH XÁC"
   ]
  },
  {
   "cell_type": "code",
   "execution_count": 8,
   "metadata": {},
   "outputs": [
    {
     "name": "stdout",
     "output_type": "stream",
     "text": [
      "Acc: 65.26104417670683%\n"
     ]
    }
   ],
   "source": [
    "V = val_df['Encode_Event'].to_numpy()\n",
    "pred = viterbi(V, A, B, initial_distribution)\n",
    "label = val_df['Outcome_Next_Day_Direction'].to_numpy()\n",
    "\n",
    "print(f'Acc: {(pred == label).sum() / len(label) * 100}%')"
   ]
  },
  {
   "cell_type": "markdown",
   "metadata": {},
   "source": [
    "### NHẬN XÉT KẾT QUẢ\n",
    "- Bài toán không sử dụng được thuật toán Baum Welch do khi độ dài chuỗi quan sát càng lớn, xác suất càng nhỏ dẫn tới xuất hiện giá trị NaN (vượt qua giới hạn trong ngôn ngữ Python).\n",
    "- Kết quả trên còn khá thấp do một phần bài toán dự đoán cổ phiếu lên xuống còn dựa vào các yếu tố bên ngoài mà trong dữ liệu không có được.\n",
    "\n",
    "### MỘT SỐ HƯỚNG CẢI TIẾN\n",
    "- Sử dụng Rabiner Scaling cho HMM để có thể chạy được thuật toán Baum Welch với độ dài chuỗi quan sát lớn.\n",
    "- Sử dụng các model ANN tiêu biểu cho bài toán dự đoán có chuỗi thời gian như là RNN với các lớp LSTM."
   ]
  },
  {
   "cell_type": "code",
   "execution_count": null,
   "metadata": {},
   "outputs": [],
   "source": []
  }
 ],
 "metadata": {
  "interpreter": {
   "hash": "f78aaba4593204fe5f4401becf35a2d2aa622e9375e32690cf85295a818b6083"
  },
  "kernelspec": {
   "display_name": "Python 3",
   "language": "python",
   "name": "python3"
  },
  "language_info": {
   "codemirror_mode": {
    "name": "ipython",
    "version": 3
   },
   "file_extension": ".py",
   "mimetype": "text/x-python",
   "name": "python",
   "nbconvert_exporter": "python",
   "pygments_lexer": "ipython3",
   "version": "3.8.12"
  }
 },
 "nbformat": 4,
 "nbformat_minor": 4
}
