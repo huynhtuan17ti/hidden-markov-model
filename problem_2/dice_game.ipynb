{
 "cells": [
  {
   "cell_type": "markdown",
   "metadata": {},
   "source": [
    "## Bài 2\n",
    "\n",
    "<b> Mô tả bài toán </b>\n",
    "\n",
    "Khi làm quản trò, anh Huy thường sử dụng 2 viên xúc sắc khác nhau, viên đầu tiên là một viên xúc xắc cân bằng, mọi mặt đều có cùng xác suất. Viên thứ hai là một viên xúc xắc lỗi, khi tung sẽ có 50% xác suất ra mặt số 6 và 10% xác suất ra mỗi mặt còn lại. Mỗi lần tung, anh sẽ chọn 1 trong 2 viên xúc xắc để tung. Người chơi không thể biết anh đã tung viên nào, chỉ biết được lần tung đó ra mặt nào.\n",
    "\n",
    "Ngoài ra, nếu ở lần tung này, anh Huy sử dụng viên xúc xắc cân bằng, thì có $80%$ khả năng anh sẽ tiếp tục sử dụng viên xúc xắc này cho lần tung tiếp theo ($20%$ còn lại anh sẽ đổi sang dùng viên lỗi). Con số này là $30%$ đối với viên lỗi ($70%$ đổi sang dùng viên cân bằng).\n",
    "\n",
    "a. Mô hình hoá tình huống trên bằng một mô hình Markov ẩn. Cho biết các tham số của mô hình này.\n",
    "\n",
    "b. Sinh ngẫu nhiên một chuỗi $T = 100$ lần tung đúng theo mô tả trên.\n",
    "\n",
    "c. Sử dụng thuật toán Viterbi để dự đoán viên xúc xắc được dùng cho mỗi lần tung. Độ chính xác của dự đoán này là bao nhiêu? Hãy lặp lại thí nghiệm này nhiều lần nếu cần thiết. Báo cáo và nhận xét kết quả thu được.\n",
    "\n",
    "d. Giả sử bạn là một người chơi, hãy sử dụng thuật toán Baum-Welch để ước lượng các tham số cho mô hình Markov ẩn. Hãy lặp lại thí nghiệm này nhiều lần nếu cần thiết. Báo cáo kết quả thu được."
   ]
  },
  {
   "cell_type": "markdown",
   "metadata": {},
   "source": [
    "-----------------------------------------------------"
   ]
  },
  {
   "cell_type": "markdown",
   "metadata": {},
   "source": [
    "<b> a. Mô hình hoá bài toán </b>\n",
    "\n",
    "Tại một thời điểm $t$ bất kì, người chơi không thể biết được anh Huy chọn viên xúc xắc nào để gieo mà chỉ có thể biết được kết quả của phép gieo xúc xắc. Vì thế, ta có thể quy định:\n",
    "- Viên xúc xắc được chọn tại một thời điểm là trạng thái ẩn (hidden state) có giá trị là $I$ hoặc $II$.\n",
    "- Số điểm thu được từ phép gieo xúc xắc là trạng thái có thể quan sát (visible state) có giá trị trong khoảng $[1, 6]$.\n",
    "\n",
    "Hai viên xúc xắc của anh Huy:\n",
    "- Viên xúc xắc đầu tiên ($I$) là một viên xúc xắc ra các mặt từ 1 đến 6 là như nhau.\n",
    "- Viên xúc xắc thứ hai  ($II$) là một viên xúc xắc không cân bằng, 50% ra mặt số 6 và 10% cho ra mỗi mặt còn lại.\n",
    "\n",
    "Từ đây ta có thể suy ra ma trận quan hệ giữa các trạng thái ẩn và trạng thái quan sát (emission matrix):\n",
    "\n",
    "|    | $1$   | $2$   | $3$   | $4$  | $5$   | $6$   |\n",
    "|----|-----|-----|-----|-----|-----|-----|\n",
    "| $I$  | $\\frac{1}{6}$ | $\\frac{1}{6}$ | $\\frac{1}{6}$ | $\\frac{1}{6}$ | $\\frac{1}{6}$ | $\\frac{1}{6}$ |\n",
    "| $II$ | $0.1$ | $0.1$ | $0.1$ | $0.1$ | $0.1$ | 0.5 |\n",
    "\n",
    "Ngoài ra, xét tại thời điểm $t$ bất kì:\n",
    "- Anh Huy chọn viên xúc xắc $I$, lượt tiếp theo:\n",
    "- - Xác xuất anh Huy tiếp tục sử dụng viên này là: 80%\n",
    "- - Xác suất anh Huy sử dụng viên thứ $II$ cho lượt tiếp theo là: 20%\n",
    "- Anh Huy chọn viên xúc xắc $II$:\n",
    "- - Xác xuất anh Huy tiếp tục sử dụng viên này là: 30%\n",
    "- - Xác suất anh Huy sử dụng viên thứ $I$ cho lượt tiếp theo là: 70%\n",
    "\n",
    "Từ đây ta có thể suy ra ma trận chuyển tiếp giữa các trạng thái ẩn (transition matrix):\n",
    "\n",
    "|    | $I$   | $II$  |\n",
    "|----|-----|-----|\n",
    "| $I$  | $0.8$ | $0.2$ |\n",
    "| $II$ | $0.7$ | $0.3$ |\n",
    "\n",
    "\n",
    "Và anh Huy không cho biết gì thêm, giá sử xác suất ban đầu cho việc chọn mỗi viên xúc xắc là như nhau:\n",
    "\n",
    "|    | $I$   | $II$  |\n",
    "|----|-----|-----|\n",
    "| $p$  | $0.5$ | $0.5$ |\n"
   ]
  },
  {
   "cell_type": "code",
   "execution_count": 2,
   "metadata": {},
   "outputs": [],
   "source": [
    "import numpy as np\n",
    "import hmm"
   ]
  },
  {
   "cell_type": "code",
   "execution_count": 3,
   "metadata": {},
   "outputs": [],
   "source": [
    "emission_matrix = [\n",
    "    [1 / 6  , 1 / 6 , 1 / 6 , 1 / 6 , 1 / 6 , 1 / 6 ],\n",
    "    [0.1    , 0.1   , 0.1   , 0.1   , 0.1   , 0.5   ]\n",
    "]\n",
    "\n",
    "transition_matrix = [\n",
    "    [0.8, 0.2],\n",
    "    [0.7, 0.3]\n",
    "]\n",
    "\n",
    "pi_matrix = [\n",
    "    0.5, 0.5\n",
    "]\n",
    "\n",
    "dice_set = [0, 1]"
   ]
  },
  {
   "cell_type": "markdown",
   "metadata": {},
   "source": [
    "-----------------------------------------------------"
   ]
  },
  {
   "cell_type": "markdown",
   "metadata": {},
   "source": [
    "<b> b. Mô phỏng 100 lần tung. </b>\n",
    "\n",
    "Sử dụng hàm random với các trọng số được mô tả ở câu trên.\n",
    "\n",
    "(Để dễ dàng hơn trong việc lập trình, chỉ số của hai viên xúc sắc sẽ là $0$ và $1$ - thay vì $I$ và $II$ trong mô tả)"
   ]
  },
  {
   "cell_type": "code",
   "execution_count": 80,
   "metadata": {},
   "outputs": [
    {
     "name": "stdout",
     "output_type": "stream",
     "text": [
      "1\t Chose: 1 - Score: 6\n",
      "2\t Chose: 2 - Score: 6\n",
      "3\t Chose: 1 - Score: 3\n",
      "4\t Chose: 1 - Score: 6\n",
      "5\t Chose: 1 - Score: 6\n",
      "6\t Chose: 1 - Score: 4\n",
      "7\t Chose: 1 - Score: 4\n",
      "8\t Chose: 1 - Score: 6\n",
      "9\t Chose: 1 - Score: 1\n",
      "10\t Chose: 1 - Score: 5\n",
      "11\t Chose: 1 - Score: 2\n",
      "12\t Chose: 1 - Score: 4\n",
      "13\t Chose: 2 - Score: 1\n",
      "14\t Chose: 2 - Score: 6\n",
      "15\t Chose: 2 - Score: 2\n",
      "16\t Chose: 2 - Score: 6\n",
      "17\t Chose: 2 - Score: 6\n",
      "18\t Chose: 2 - Score: 2\n",
      "19\t Chose: 1 - Score: 2\n",
      "20\t Chose: 2 - Score: 6\n",
      "21\t Chose: 1 - Score: 6\n",
      "22\t Chose: 1 - Score: 2\n",
      "23\t Chose: 1 - Score: 1\n",
      "24\t Chose: 1 - Score: 5\n",
      "25\t Chose: 1 - Score: 4\n",
      "26\t Chose: 1 - Score: 3\n",
      "27\t Chose: 2 - Score: 6\n",
      "28\t Chose: 1 - Score: 3\n",
      "29\t Chose: 2 - Score: 6\n",
      "30\t Chose: 2 - Score: 5\n",
      "31\t Chose: 2 - Score: 6\n",
      "32\t Chose: 1 - Score: 5\n",
      "33\t Chose: 1 - Score: 6\n",
      "34\t Chose: 1 - Score: 2\n",
      "35\t Chose: 2 - Score: 6\n",
      "36\t Chose: 1 - Score: 6\n",
      "37\t Chose: 1 - Score: 1\n",
      "38\t Chose: 1 - Score: 6\n",
      "39\t Chose: 1 - Score: 6\n",
      "40\t Chose: 2 - Score: 6\n",
      "41\t Chose: 2 - Score: 1\n",
      "42\t Chose: 1 - Score: 6\n",
      "43\t Chose: 1 - Score: 1\n",
      "44\t Chose: 1 - Score: 4\n",
      "45\t Chose: 1 - Score: 5\n",
      "46\t Chose: 1 - Score: 5\n",
      "47\t Chose: 1 - Score: 6\n",
      "48\t Chose: 2 - Score: 5\n",
      "49\t Chose: 1 - Score: 4\n",
      "50\t Chose: 2 - Score: 2\n",
      "51\t Chose: 1 - Score: 6\n",
      "52\t Chose: 1 - Score: 3\n",
      "53\t Chose: 1 - Score: 1\n",
      "54\t Chose: 2 - Score: 6\n",
      "55\t Chose: 1 - Score: 4\n",
      "56\t Chose: 1 - Score: 1\n",
      "57\t Chose: 1 - Score: 6\n",
      "58\t Chose: 1 - Score: 5\n",
      "59\t Chose: 1 - Score: 1\n",
      "60\t Chose: 1 - Score: 5\n",
      "61\t Chose: 1 - Score: 4\n",
      "62\t Chose: 1 - Score: 6\n",
      "63\t Chose: 1 - Score: 5\n",
      "64\t Chose: 1 - Score: 5\n",
      "65\t Chose: 1 - Score: 5\n",
      "66\t Chose: 1 - Score: 6\n",
      "67\t Chose: 1 - Score: 1\n",
      "68\t Chose: 1 - Score: 2\n",
      "69\t Chose: 2 - Score: 6\n",
      "70\t Chose: 1 - Score: 3\n",
      "71\t Chose: 1 - Score: 6\n",
      "72\t Chose: 2 - Score: 6\n",
      "73\t Chose: 1 - Score: 4\n",
      "74\t Chose: 1 - Score: 3\n",
      "75\t Chose: 1 - Score: 6\n",
      "76\t Chose: 1 - Score: 1\n",
      "77\t Chose: 2 - Score: 6\n",
      "78\t Chose: 1 - Score: 2\n",
      "79\t Chose: 1 - Score: 6\n",
      "80\t Chose: 1 - Score: 6\n",
      "81\t Chose: 2 - Score: 3\n",
      "82\t Chose: 2 - Score: 3\n",
      "83\t Chose: 1 - Score: 5\n",
      "84\t Chose: 2 - Score: 6\n",
      "85\t Chose: 1 - Score: 2\n",
      "86\t Chose: 1 - Score: 2\n",
      "87\t Chose: 1 - Score: 1\n",
      "88\t Chose: 1 - Score: 2\n",
      "89\t Chose: 2 - Score: 3\n",
      "90\t Chose: 1 - Score: 5\n",
      "91\t Chose: 1 - Score: 4\n",
      "92\t Chose: 2 - Score: 1\n",
      "93\t Chose: 2 - Score: 6\n",
      "94\t Chose: 1 - Score: 3\n",
      "95\t Chose: 1 - Score: 4\n",
      "96\t Chose: 1 - Score: 1\n",
      "97\t Chose: 1 - Score: 1\n",
      "98\t Chose: 2 - Score: 2\n",
      "99\t Chose: 1 - Score: 5\n",
      "100\t Chose: 1 - Score: 1\n"
     ]
    }
   ],
   "source": [
    "T = 100\n",
    "\n",
    "current_dice = None\n",
    "\n",
    "dice_chose = [None for _ in range(T)]\n",
    "result = [None for _ in range(T)]\n",
    "\n",
    "for t in range(T):\n",
    "    if t == 0:\n",
    "        dice_no = np.random.choice(dice_set, p = pi_matrix)\n",
    "        dice_chose[t] = dice_no\n",
    "        result[t] = np.random.choice(np.arange(0, 6), p = emission_matrix[dice_no])\n",
    "    else:\n",
    "        dice_no = np.random.choice(dice_set, p = transition_matrix[dice_no])\n",
    "        dice_chose[t] = dice_no\n",
    "        result[t] = np.random.choice(np.arange(0, 6), p = emission_matrix[dice_no])\n",
    "\n",
    "for t in range(T):\n",
    "    print(f'{t + 1}\\t Chose: {dice_chose[t] + 1} - Score: {result[t] + 1}')"
   ]
  },
  {
   "cell_type": "markdown",
   "metadata": {},
   "source": [
    "-----------------------------------"
   ]
  },
  {
   "cell_type": "markdown",
   "metadata": {},
   "source": [
    "<b>c. Dự đoán viên xúc xắc được chọn</b>\n",
    "\n",
    "Lấy chuỗi quan sát được ở câu b để dự đoán\n",
    "\n",
    "Sử dụng thuật toán viterbi được xây dựng từ câu a."
   ]
  },
  {
   "cell_type": "code",
   "execution_count": 81,
   "metadata": {},
   "outputs": [],
   "source": [
    "observations = np.array(result)\n",
    "transition_matrix = np.array(transition_matrix)\n",
    "emission_matrix = np.array(emission_matrix)\n",
    "pi_matrix = np.array(pi_matrix)"
   ]
  },
  {
   "cell_type": "code",
   "execution_count": 82,
   "metadata": {},
   "outputs": [
    {
     "name": "stdout",
     "output_type": "stream",
     "text": [
      "[*] Predicted sequence:  [2, 2, 1, 1, 1, 1, 1, 1, 1, 1, 1, 1, 1, 1, 1, 1, 1, 1, 1, 1, 1, 1, 1, 1, 1, 1, 1, 1, 1, 1, 1, 1, 1, 1, 1, 1, 1, 1, 1, 1, 1, 1, 1, 1, 1, 1, 1, 1, 1, 1, 1, 1, 1, 1, 1, 1, 1, 1, 1, 1, 1, 1, 1, 1, 1, 1, 1, 1, 1, 1, 1, 1, 1, 1, 1, 1, 1, 1, 1, 1, 1, 1, 1, 1, 1, 1, 1, 1, 1, 1, 1, 1, 1, 1, 1, 1, 1, 1, 1, 1]\n"
     ]
    }
   ],
   "source": [
    "dice_pred = hmm.viterbi(V = observations, A = transition_matrix, B = emission_matrix, initial_prob = pi_matrix)\n",
    "\n",
    "dice_pred = dice_pred.astype(np.int64)\n",
    "\n",
    "# print out 1 or 2\n",
    "print('[*] Predicted sequence: ' , [i + 1 for i in dice_pred])"
   ]
  },
  {
   "cell_type": "code",
   "execution_count": 84,
   "metadata": {},
   "outputs": [
    {
     "name": "stdout",
     "output_type": "stream",
     "text": [
      "[*] Wrong: 28\n",
      "[*] Accuracy: 0.72\n"
     ]
    }
   ],
   "source": [
    "wrongs = 0\n",
    "for i in range(len(dice_pred)):\n",
    "    wrongs += 1 if int(dice_pred[i]) != dice_chose[i] else 0\n",
    "\n",
    "print(f'[*] Wrong: {wrongs}')\n",
    "print(f'[*] Accuracy: {(len(dice_pred) - wrongs) / len(dice_pred)}') "
   ]
  },
  {
   "cell_type": "markdown",
   "metadata": {},
   "source": [
    "Ta thực hiện lặp lại thao tác tạo một chuỗi ngẫu nhiên ở câu $b$ sau sau đó in chuỗi dự đoán ở câu $c$ rồi ghi lại vị trí của các giá trị 2 và độ chính xác của chuỗi dự đoán. Thực hiện nhiều lần, ta thu được bảng sau:\n",
    "\n",
    "|  Lần thử  | Vị trí   | Độ chính xác |\n",
    "|-------|-------|------|\n",
    "|$1$|$[0]$|$0.77$|\n",
    "|$2$|$[Empty]$|$0.78$|\n",
    "|$3$|$[0]$|$0.77$|\n",
    "|$4$|$[0]$|$0.86$|\n",
    "|$5$|$[Empty]$|$0.8$|\n",
    "|$6$|$[Empty]$|$0.79$|\n",
    "|$7$|$[Empty]$|$0.72$|\n",
    "|$8$|$[0]$|$0.76$|\n",
    "|$9$|$[0]$|$0.76$|\n",
    "|$10$|$[0]$|$0.73$|\n",
    "|$11$|$[Empty]$|$0.76$|\n",
    "|$12$|$[Empty]$|$0.75$|\n",
    "|$13$|$[Empty]$|$0.79$|\n",
    "|$14$|$[Empty]$|$0.72$|\n",
    "|$15$|$[Empty]$|$0.78$|\n",
    "|$16$|$[0, 1, 28, 29, 30, 31, 32]$|$0.8$|\n",
    "|$17$|$[Empty]$|$0.77$|\n",
    "|$18$|$[0]$|$0.65$|\n",
    "|$19$|$[Empty]$|$0.79$|\n",
    "|$20$|$[Empty]$|$0.75$|\n",
    "|$Average$||$0.765$|\n",
    "\n",
    "<b>Nhận xét</b>\n",
    "\n",
    "Theo đề bài, rõ ràng anh Huy rất hạn chế việc sử dụng viên xúc xắc bất cân bằng (ta cũng có thể thấy từ chuỗi sinh ngẫu nhiên theo xác suất mô tả trong bài toán ở câu $b$, các giá trị 2 rất ít khi xuất hiện), vì thế việc giá trị 2 xuất hiện rất ít trong chuỗi dự đoán là điều hợp lí.\n",
    "\n",
    "Kết quả dự đoán từ thuật toán Viterbi là khá chính xác với độ chính xác trung bình $0.765$"
   ]
  },
  {
   "cell_type": "markdown",
   "metadata": {},
   "source": [
    "-------------------------------"
   ]
  },
  {
   "cell_type": "markdown",
   "metadata": {},
   "source": [
    "<b>d. Giả sử bạn là một người chơi, hãy sử dụng thuật toán Baum-Welch để ước\n",
    "lượng các tham số cho mô hình Markov ẩn. Hãy lặp lại thí nghiệm nhiều lần nếu cần\n",
    "thiết. Báo cáo và nhận xét kết quả thu được. </b>"
   ]
  },
  {
   "cell_type": "markdown",
   "metadata": {},
   "source": [
    "Với bài toán này, ta sử dụng lại chuỗi quan sát được sinh ở câu b. \n",
    "\n",
    "Sử dụng bảng $A$ và $B$ lần lượt là bảng chuyển đổi trạng thái ban đầu và bảng phụ thuộc trạng thái ban đầu."
   ]
  },
  {
   "cell_type": "code",
   "execution_count": 8,
   "metadata": {},
   "outputs": [
    {
     "name": "stdout",
     "output_type": "stream",
     "text": [
      "---------- Result ----------\n",
      "Matrix A:\n",
      "[[0.5 0.5]\n",
      " [0.5 0.5]]\n",
      "\n",
      "Matrix B:\n",
      "[[0.16 0.15 0.22 0.12 0.16 0.19]\n",
      " [0.16 0.15 0.22 0.12 0.16 0.19]]\n",
      "\n",
      "---------- Compare ----------\n",
      "Likelihood with initial parameters: 6.69227948592292e-79\n",
      "Likelihood with estimated parameters: 8.974301988079143e-78\n",
      "Diff: 8.305074039486851e-78\n"
     ]
    }
   ],
   "source": [
    "A = [\n",
    "    [0.5, 0.5],\n",
    "    [0.5, 0.5]\n",
    "]\n",
    "\n",
    "B = [\n",
    "    [1/6, 1/6, 1/6, 1/6, 1/6, 1/6],\n",
    "    [1/6, 1/6, 1/6, 1/6, 1/6, 1/6]\n",
    "]\n",
    "\n",
    "A = np.array(A)\n",
    "B = np.array(B)\n",
    "\n",
    "A, B = hmm.baum_welch(observations, A, B, pi_matrix, 1000)\n",
    "\n",
    "print('---------- Result ----------')\n",
    "print('Matrix A:')\n",
    "print(np.matrix(A.round(decimals=4)))\n",
    "print('\\nMatrix B:')\n",
    "print(np.matrix(B.round(decimals=4)))\n",
    "\n",
    "\n",
    "print('\\n---------- Compare ----------')    \n",
    "alpha_test = hmm.forward(observations, transition_matrix, emission_matrix, pi_matrix)\n",
    "alpha_res = hmm.forward(observations, A, B, pi_matrix)\n",
    "\n",
    "print('Likelihood with initial parameters: {}'.format(alpha_test[T - 1].sum()))\n",
    "print('Likelihood with estimated parameters: {}'.format(alpha_res[T - 1].sum()))\n",
    "print('Diff: {}'.format(abs(alpha_test[T - 1].sum() - alpha_res[T - 1].sum())))"
   ]
  },
  {
   "cell_type": "markdown",
   "metadata": {},
   "source": [
    "<b>Nhận xét: </b> Với chuỗi quan sát với độ dài lớn như thế thì dẫn tới không gian mẫu rất lớn, do đó xác suất để có chuỗi quan sát trên là rất nhỏ, vậy nên tham số tìm được cho ra độ hợp lí (likelihood) sai lệch so với tham số ban đầu."
   ]
  }
 ],
 "metadata": {
  "interpreter": {
   "hash": "a05a7f62f9d34a18aee5522210c5b1b7aa75cbd138ee37452bbc718ce1465e14"
  },
  "kernelspec": {
   "display_name": "Python 3.9.12 ('ndtran')",
   "language": "python",
   "name": "python3"
  },
  "language_info": {
   "codemirror_mode": {
    "name": "ipython",
    "version": 3
   },
   "file_extension": ".py",
   "mimetype": "text/x-python",
   "name": "python",
   "nbconvert_exporter": "python",
   "pygments_lexer": "ipython3",
   "version": "3.9.12"
  }
 },
 "nbformat": 4,
 "nbformat_minor": 2
}
